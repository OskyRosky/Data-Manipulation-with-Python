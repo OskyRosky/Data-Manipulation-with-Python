{
 "cells": [
  {
   "cell_type": "code",
   "execution_count": 24,
   "metadata": {},
   "outputs": [],
   "source": [
    "########################################################################################\n",
    "#                                                                                      #\n",
    "#                                                                                      #\n",
    "#       Extracción + transformación + creacción de tablas (datamart)                   #\n",
    "#                                                                                      #\n",
    "#                                                                                      #\n",
    "########################################################################################\n",
    "\n",
    "###############\n",
    "#   General   #\n",
    "###############\n",
    "\n",
    "\n",
    "#############################\n",
    "#   Estructura del código   #  \n",
    "#############################\n",
    "\n",
    "# 0. Establecimiento de la configuración general del espacio de trabajo.\n",
    "#\n",
    "# 1. Importación de los archivos y otros referentes a los ingresos.\n",
    "#\n",
    "# 2. Ciertas modificaciones previar generales.\n",
    "#\n",
    "# 3. Unión + Transformación de ingresos mensuales + anuales\n",
    "#\n",
    "# 4. Creación de las principales tablas.\n",
    "#\n",
    "# 5. Exportación de los tablas con información."
   ]
  },
  {
   "cell_type": "code",
   "execution_count": 25,
   "metadata": {},
   "outputs": [
    {
     "name": "stdout",
     "output_type": "stream",
     "text": [
      "Current working directory: C:\\Users\\oscar\\Desktop\\GitHub\\Python\\Projetcs\\P3\\Data-Manipulation-with-Python\\Income\\data\n",
      "Current working directory: C:\\Users\\oscar\\Desktop\\GitHub\\Python\\Projetcs\\P3\\Data-Manipulation-with-Python\\Income\\data\n"
     ]
    }
   ],
   "source": [
    "#####\n",
    "# 0 #  \n",
    "##################################################################################################\n",
    "##################################################################################################\n",
    "#                         Establecimiento de la  configuración general                           #\n",
    "##################################################################################################\n",
    "##################################################################################################\n",
    "\n",
    "\n",
    "################\n",
    "#  Directorio  #\n",
    "################ \n",
    "\n",
    "import os\n",
    "cwd = os.getcwd()\n",
    "cwd\n",
    "# Print the current working directory\n",
    "print(\"Current working directory: {0}\".format(cwd))\n",
    "\n",
    "\n",
    "path = 'C:\\\\Users\\\\oscar\\\\Desktop\\\\GitHub\\\\Python\\\\Projetcs\\\\P3\\\\Data-Manipulation-with-Python\\\\Income\\\\data'\n",
    "# Change the current working directory\n",
    "os.chdir(path)\n",
    "# Let's check the new directory \n",
    "print(\"Current working directory: {0}\".format(os.getcwd()))"
   ]
  },
  {
   "cell_type": "code",
   "execution_count": 26,
   "metadata": {},
   "outputs": [],
   "source": [
    "################\n",
    "#  Librerías   #\n",
    "################\n",
    "\n",
    "import numpy as np\n",
    "import pandas as pd"
   ]
  },
  {
   "cell_type": "code",
   "execution_count": 27,
   "metadata": {},
   "outputs": [],
   "source": [
    "#####################################################\n",
    "#####################################################\n",
    "#         Parámetros: datos + dashboard             #\n",
    "#####################################################\n",
    "#####################################################\n",
    "\n",
    "#############\n",
    "#  Millones #\n",
    "#############\n",
    "\n",
    "Millones = 1000000\n",
    "# print(Millones)\n",
    "\n",
    "################################\n",
    "#  Delimitación años análisis  #\n",
    "################################\n",
    "\n",
    "Anos_analisis = 2007\n",
    "# print(Anos_analisis)\n",
    "\n",
    "####################\n",
    "#  Años referencia #\n",
    "####################\n",
    "\n",
    "#Ano_actual    <- 2021\n",
    "#Ano_pasado_1  <- 2020  \n",
    "#Ano_pasado_2  <- 2019\n",
    "\n",
    "# Ano_actual    <- as.numeric(substr(Sys.Date(),1,4))\n",
    "# Ano_pasado_1  <- as.numeric(substr(Sys.Date(),1,4))-1  \n",
    "# Ano_pasado_2  <- as.numeric(substr(Sys.Date(),1,4))-2\n",
    "\n",
    "####################\n",
    "#  Mes referencia  #\n",
    "####################\n",
    "\n",
    "# Mes_actual <- substr(Sys.Date(),6,7)\n",
    "\n",
    "####################\n",
    "#  Mes referencia  #\n",
    "####################\n",
    "\n",
    "# Mes_actual <- substr(Sys.Date(),6,7)"
   ]
  },
  {
   "cell_type": "code",
   "execution_count": 28,
   "metadata": {},
   "outputs": [],
   "source": [
    "#####\n",
    "# 1 #  \n",
    "##################################################################################################\n",
    "##################################################################################################\n",
    "##################################################################################################\n",
    "#                              Importación de los ingresos                                       #\n",
    "##################################################################################################\n",
    "##################################################################################################\n",
    "##################################################################################################\n",
    "\n",
    "#############################\n",
    "#   Ingresos  2007 - 2020   #\n",
    "#############################\n",
    "\n",
    "ingresos_2007_2021 = pd.read_excel(r'SIGAF_2007_2021.xlsx') \n",
    "# print(ingresos_2007_2021.shape)\n",
    "# print(ingresos_2007_2021.columns)"
   ]
  },
  {
   "cell_type": "code",
   "execution_count": 29,
   "metadata": {},
   "outputs": [],
   "source": [
    "###############################\n",
    "#   Ingresos  SIGAF  actual   #\n",
    "###############################\n",
    "\n",
    "# Este si se debe llamar siempre \"SIGAF_Ingresos_actual.\"\n",
    "\n",
    "SIGAF_Ingresos_actual = pd.read_excel(r'SIGAF_Ingresos_actual.xlsx') \n",
    "# print(SIGAF_Ingresos_actual.shape)\n",
    "# print(SIGAF_Ingresos_actual.columns)"
   ]
  },
  {
   "cell_type": "code",
   "execution_count": 30,
   "metadata": {},
   "outputs": [],
   "source": [
    "###############################\n",
    "#         Tabla del PIB       #\n",
    "###############################\n",
    "\n",
    "PIB =  pd.read_excel(r'PIB.xlsx') \n",
    "# print(PIB.shape)\n",
    "# print(PIB.columns)"
   ]
  },
  {
   "cell_type": "code",
   "execution_count": 32,
   "metadata": {},
   "outputs": [],
   "source": [
    "###############################################\n",
    "#   Presupuesto inicial   #\n",
    "###############################################\n",
    "\n",
    "PPI = pd.read_excel(r'PPI.xlsx') \n",
    "# print(PPI.shape)\n",
    "# print(PPI.columns)\n"
   ]
  },
  {
   "cell_type": "code",
   "execution_count": 40,
   "metadata": {},
   "outputs": [],
   "source": [
    "#####\n",
    "# 2 #  \n",
    "##################################################################################################\n",
    "##################################################################################################\n",
    "##################################################################################################\n",
    "#        Cambio en el ingreso total  PosPre - I   +   PospresAnual en el Presu. Inicial          #\n",
    "##################################################################################################\n",
    "##################################################################################################\n",
    "##################################################################################################\n",
    "\n",
    "#  Creación de la variable I0000000000\n",
    "\n",
    "#SIGAF_Ingresos_actual.head(10)\n",
    "\n",
    "SIGAF_Ingresos_actual['PosPre'] = SIGAF_Ingresos_actual['PosPre'].replace(['I'],'I0000000000000')\n",
    "\n",
    "# SIGAF_Ingresos_actual.head(10)"
   ]
  },
  {
   "cell_type": "code",
   "execution_count": 51,
   "metadata": {},
   "outputs": [
    {
     "name": "stdout",
     "output_type": "stream",
     "text": [
      "<class 'pandas.core.frame.DataFrame'>\n",
      "RangeIndex: 2146 entries, 0 to 2145\n",
      "Data columns (total 12 columns):\n",
      " #   Column                Non-Null Count  Dtype  \n",
      "---  ------                --------------  -----  \n",
      " 0   Año                   2146 non-null   int64  \n",
      " 1   Clase                 2146 non-null   int64  \n",
      " 2   Subclase              2146 non-null   int64  \n",
      " 3   Grupo                 2146 non-null   int64  \n",
      " 4   Subgrupo              2146 non-null   int64  \n",
      " 5   Partida               2146 non-null   int64  \n",
      " 6   Subpartida            2146 non-null   int64  \n",
      " 7   Renglón               2146 non-null   int64  \n",
      " 8   Subrenglón            2146 non-null   int64  \n",
      " 9   Fuente finaciamiento  2146 non-null   int64  \n",
      " 10  Descripción           2146 non-null   object \n",
      " 11  Presupuesto inicial   2146 non-null   float64\n",
      "dtypes: float64(1), int64(10), object(1)\n",
      "memory usage: 201.3+ KB\n"
     ]
    }
   ],
   "source": [
    "PPI.info()"
   ]
  },
  {
   "cell_type": "code",
   "execution_count": 45,
   "metadata": {},
   "outputs": [
    {
     "data": {
      "text/plain": [
       "0       0\n",
       "1       1\n",
       "2       1\n",
       "3       1\n",
       "4       1\n",
       "       ..\n",
       "2141    3\n",
       "2142    3\n",
       "2143    3\n",
       "2144    3\n",
       "2145    3\n",
       "Name: Clase, Length: 2146, dtype: int64"
      ]
     },
     "execution_count": 45,
     "metadata": {},
     "output_type": "execute_result"
    }
   ],
   "source": [
    "\n",
    "\n",
    "# s = ','.join([var1, var2, var3])\n"
   ]
  }
 ],
 "metadata": {
  "kernelspec": {
   "display_name": "Python 3",
   "language": "python",
   "name": "python3"
  },
  "language_info": {
   "codemirror_mode": {
    "name": "ipython",
    "version": 3
   },
   "file_extension": ".py",
   "mimetype": "text/x-python",
   "name": "python",
   "nbconvert_exporter": "python",
   "pygments_lexer": "ipython3",
   "version": "3.9.13"
  },
  "orig_nbformat": 4,
  "vscode": {
   "interpreter": {
    "hash": "a00094f430d4e0bf31d8bcd1818e632624f2ff7a6dccccbf63d2a36832140da3"
   }
  }
 },
 "nbformat": 4,
 "nbformat_minor": 2
}
